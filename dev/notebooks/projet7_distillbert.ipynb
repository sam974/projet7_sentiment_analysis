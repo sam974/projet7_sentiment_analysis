{
 "cells": [
  {
   "cell_type": "code",
   "execution_count": 1,
   "id": "652003cc",
   "metadata": {},
   "outputs": [
    {
     "name": "stdout",
     "output_type": "stream",
     "text": [
      "Aperçu des 5 premières lignes du tableau de données :\n",
      "   sentiment          id                          date     query  \\\n",
      "0          0  1467810369  Mon Apr 06 22:19:45 PDT 2009  NO_QUERY   \n",
      "1          0  1467810672  Mon Apr 06 22:19:49 PDT 2009  NO_QUERY   \n",
      "2          0  1467810917  Mon Apr 06 22:19:53 PDT 2009  NO_QUERY   \n",
      "3          0  1467811184  Mon Apr 06 22:19:57 PDT 2009  NO_QUERY   \n",
      "4          0  1467811193  Mon Apr 06 22:19:57 PDT 2009  NO_QUERY   \n",
      "\n",
      "              user                                               text  \n",
      "0  _TheSpecialOne_  @switchfoot http://twitpic.com/2y1zl - Awww, t...  \n",
      "1    scotthamilton  is upset that he can't update his Facebook by ...  \n",
      "2         mattycus  @Kenichan I dived many times for the ball. Man...  \n",
      "3          ElleCTF    my whole body feels itchy and like its on fire   \n",
      "4           Karoli  @nationwideclass no, it's not behaving at all....  \n"
     ]
    }
   ],
   "source": [
    "# Import de la bibliothèque essentielle pour la manipulation de données\n",
    "import pandas as pd\n",
    "\n",
    "# On définit des noms de colonnes clairs\n",
    "column_names = ['sentiment', 'id', 'date', 'query', 'user', 'text']\n",
    "\n",
    "# Chargement des données dans un \"DataFrame\"\n",
    "df = pd.read_csv(\"./input/training.1600000.processed.noemoticon.csv\", names=column_names, encoding=\"latin-1\")\n",
    "\n",
    "# On remplace la valeur 4 par 1 dans la colonne 'sentiment' pour la rendre binaire (0 ou 1)\n",
    "df['sentiment'] = df['sentiment'].replace(4, 1)\n",
    "\n",
    "# Affichage des 5 premières lignes pour un premier aperçu\n",
    "print(\"Aperçu des 5 premières lignes du tableau de données :\")\n",
    "print(df.head())"
   ]
  },
  {
   "cell_type": "code",
   "execution_count": 2,
   "id": "3df60580",
   "metadata": {},
   "outputs": [
    {
     "data": {
      "text/html": [
       "<div>\n",
       "<style scoped>\n",
       "    .dataframe tbody tr th:only-of-type {\n",
       "        vertical-align: middle;\n",
       "    }\n",
       "\n",
       "    .dataframe tbody tr th {\n",
       "        vertical-align: top;\n",
       "    }\n",
       "\n",
       "    .dataframe thead th {\n",
       "        text-align: right;\n",
       "    }\n",
       "</style>\n",
       "<table border=\"1\" class=\"dataframe\">\n",
       "  <thead>\n",
       "    <tr style=\"text-align: right;\">\n",
       "      <th></th>\n",
       "      <th>sentiment</th>\n",
       "      <th>id</th>\n",
       "    </tr>\n",
       "  </thead>\n",
       "  <tbody>\n",
       "    <tr>\n",
       "      <th>count</th>\n",
       "      <td>1600000.0</td>\n",
       "      <td>1.600000e+06</td>\n",
       "    </tr>\n",
       "    <tr>\n",
       "      <th>mean</th>\n",
       "      <td>0.5</td>\n",
       "      <td>1.998818e+09</td>\n",
       "    </tr>\n",
       "    <tr>\n",
       "      <th>std</th>\n",
       "      <td>0.5</td>\n",
       "      <td>1.935761e+08</td>\n",
       "    </tr>\n",
       "    <tr>\n",
       "      <th>min</th>\n",
       "      <td>0.0</td>\n",
       "      <td>1.467810e+09</td>\n",
       "    </tr>\n",
       "    <tr>\n",
       "      <th>25%</th>\n",
       "      <td>0.0</td>\n",
       "      <td>1.956916e+09</td>\n",
       "    </tr>\n",
       "    <tr>\n",
       "      <th>50%</th>\n",
       "      <td>0.5</td>\n",
       "      <td>2.002102e+09</td>\n",
       "    </tr>\n",
       "    <tr>\n",
       "      <th>75%</th>\n",
       "      <td>1.0</td>\n",
       "      <td>2.177059e+09</td>\n",
       "    </tr>\n",
       "    <tr>\n",
       "      <th>max</th>\n",
       "      <td>1.0</td>\n",
       "      <td>2.329206e+09</td>\n",
       "    </tr>\n",
       "  </tbody>\n",
       "</table>\n",
       "</div>"
      ],
      "text/plain": [
       "       sentiment            id\n",
       "count  1600000.0  1.600000e+06\n",
       "mean         0.5  1.998818e+09\n",
       "std          0.5  1.935761e+08\n",
       "min          0.0  1.467810e+09\n",
       "25%          0.0  1.956916e+09\n",
       "50%          0.5  2.002102e+09\n",
       "75%          1.0  2.177059e+09\n",
       "max          1.0  2.329206e+09"
      ]
     },
     "execution_count": 2,
     "metadata": {},
     "output_type": "execute_result"
    }
   ],
   "source": [
    "df.describe()"
   ]
  },
  {
   "cell_type": "code",
   "execution_count": 3,
   "id": "d3241b45",
   "metadata": {},
   "outputs": [
    {
     "name": "stdout",
     "output_type": "stream",
     "text": [
      "Dimensions du tableau : (1600000, 6)\n",
      "------------------------------\n",
      "Informations sur le DataFrame :\n",
      "<class 'pandas.core.frame.DataFrame'>\n",
      "RangeIndex: 1600000 entries, 0 to 1599999\n",
      "Data columns (total 6 columns):\n",
      " #   Column     Non-Null Count    Dtype \n",
      "---  ------     --------------    ----- \n",
      " 0   sentiment  1600000 non-null  int64 \n",
      " 1   id         1600000 non-null  int64 \n",
      " 2   date       1600000 non-null  object\n",
      " 3   query      1600000 non-null  object\n",
      " 4   user       1600000 non-null  object\n",
      " 5   text       1600000 non-null  object\n",
      "dtypes: int64(2), object(4)\n",
      "memory usage: 73.2+ MB\n",
      "------------------------------\n",
      "Distribution des sentiments :\n",
      "sentiment\n",
      "0    800000\n",
      "1    800000\n",
      "Name: count, dtype: int64\n"
     ]
    }
   ],
   "source": [
    "# 1. Obtenir les dimensions du tableau (nombre de lignes, nombre de colonnes)\n",
    "print(f\"Dimensions du tableau : {df.shape}\")\n",
    "print(\"-\" * 30)\n",
    "\n",
    "# 2. Obtenir un résumé des informations (types de données, valeurs non nulles)\n",
    "print(\"Informations sur le DataFrame :\")\n",
    "df.info()\n",
    "print(\"-\" * 30)\n",
    "\n",
    "# 3. Compter le nombre de tweets pour chaque sentiment\n",
    "# La colonne 'is_negative' contient notre label : 1 pour négatif, 0 pour non-négatif\n",
    "print(\"Distribution des sentiments :\")\n",
    "print(df['sentiment'].value_counts())"
   ]
  },
  {
   "cell_type": "code",
   "execution_count": 4,
   "id": "281d2f96",
   "metadata": {},
   "outputs": [
    {
     "name": "stdout",
     "output_type": "stream",
     "text": [
      "Original text:  @switchfoot http://twitpic.com/2y1zl - Awww, that's a bummer.  You shoulda got David Carr of Third Day to do it. ;D\n",
      "Cleaned text:    httptwitpiccom2y1zl  awww thats a bummer  you shoulda got david carr of third day to do it d\n"
     ]
    }
   ],
   "source": [
    "import re\n",
    "import string # A pre-built list of all punctuation marks\n",
    "\n",
    "\n",
    "# This function removes the three main types of \"noise\"\n",
    "def clean_text(text):\n",
    "    text = re.sub(r'https://\\S+|www\\.\\S+', '', text) # Remove URLs\n",
    "    text = re.sub(r'@\\w+', '', text)                # Remove mentions\n",
    "    text = re.sub(r'#', '', text)                   # Remove the '#' symbol\n",
    "    text = text.lower()                            # Convert to lowercase\n",
    "    # Remove all characters that are in the string.punctuation list\n",
    "    text = re.sub(f'[{re.escape(string.punctuation)}]', '', text) \n",
    "    return text\n",
    "\n",
    "# We apply this function to every tweet in the 'text' column\n",
    "df['cleaned_text'] = df['text'].apply(clean_text)\n",
    "\n",
    "# Let's check the result on one example\n",
    "print(\"Original text: \", df['text'].iloc[0])\n",
    "print(\"Cleaned text:  \", df['cleaned_text'].iloc[0])"
   ]
  },
  {
   "cell_type": "code",
   "execution_count": 5,
   "id": "b7951f3e",
   "metadata": {},
   "outputs": [
    {
     "name": "stderr",
     "output_type": "stream",
     "text": [
      "[nltk_data] Downloading package punkt to\n",
      "[nltk_data]     C:\\Users\\Moi\\AppData\\Roaming\\nltk_data...\n",
      "[nltk_data]   Package punkt is already up-to-date!\n",
      "[nltk_data] Downloading package stopwords to\n",
      "[nltk_data]     C:\\Users\\Moi\\AppData\\Roaming\\nltk_data...\n",
      "[nltk_data]   Package stopwords is already up-to-date!\n"
     ]
    },
    {
     "name": "stdout",
     "output_type": "stream",
     "text": [
      "Cleaned text:  httptwitpiccom2y1zl  awww thats a bummer  you shoulda got david carr of third day to do it d\n",
      "Final tokens: ['httptwitpiccom2y1zl', 'awww', 'thats', 'bummer', 'shoulda', 'got', 'david', 'carr', 'third', 'day']\n"
     ]
    }
   ],
   "source": [
    "# We'll use a popular library for this called NLTK\n",
    "import nltk\n",
    "from nltk.tokenize import word_tokenize\n",
    "from nltk.corpus import stopwords\n",
    "\n",
    "# These lines download the necessary tools from NLTK (you only need to run them once)\n",
    "nltk.download('punkt')\n",
    "nltk.download('stopwords')\n",
    "\n",
    "# Load the list of English stop words\n",
    "stop_words = set(stopwords.words('english'))\n",
    "\n",
    "# Apply tokenization and stop word removal\n",
    "df['tokens'] = df['cleaned_text'].apply(lambda text: [word for word in word_tokenize(text) if word not in stop_words])\n",
    "\n",
    "# Let's check our example one last time\n",
    "print(\"Cleaned text:\", df['cleaned_text'].iloc[0])\n",
    "print(\"Final tokens:\", df['tokens'].iloc[0])"
   ]
  },
  {
   "cell_type": "code",
   "execution_count": 6,
   "id": "6a6391e2",
   "metadata": {},
   "outputs": [
    {
     "name": "stdout",
     "output_type": "stream",
     "text": [
      "Shape of our feature matrix X: (1600000, 5000)\n",
      "Shape of our target vector y: (1600000,)\n"
     ]
    }
   ],
   "source": [
    "from sklearn.feature_extraction.text import TfidfVectorizer\n",
    "\n",
    "# The vectorizer needs sentences, so we join our tokens back into a single string\n",
    "df['final_text'] = df['tokens'].apply(lambda tokens: ' '.join(tokens))\n",
    "\n",
    "# Initialize the TF-IDF Vectorizer\n",
    "# We'll limit it to the 5,000 most important words to keep it efficient\n",
    "vectorizer = TfidfVectorizer(max_features=5000)\n",
    "\n",
    "# Create the numerical feature matrix X by applying the vectorizer\n",
    "X = vectorizer.fit_transform(df['final_text'])\n",
    "\n",
    "# Define our target variable y (the sentiment column)\n",
    "y = df['sentiment']\n",
    "\n",
    "# Check the final shapes\n",
    "print(\"Shape of our feature matrix X:\", X.shape)\n",
    "print(\"Shape of our target vector y:\", y.shape)"
   ]
  },
  {
   "cell_type": "code",
   "execution_count": 7,
   "id": "5d18b388",
   "metadata": {},
   "outputs": [
    {
     "name": "stdout",
     "output_type": "stream",
     "text": [
      "Training data shape: (1280000, 5000)\n",
      "Testing data shape: (320000, 5000)\n"
     ]
    }
   ],
   "source": [
    "from sklearn.model_selection import train_test_split\n",
    "\n",
    "# Split our data X and our labels y\n",
    "# test_size=0.2 means 20% of the data is reserved for testing\n",
    "# random_state=42 ensures we get the same split every time we run the code\n",
    "X_train, X_test, y_train, y_test = train_test_split(\n",
    "    X, y, test_size=0.2, random_state=42\n",
    ")\n",
    "\n",
    "# Let's print the shapes to see the result\n",
    "print(f\"Training data shape: {X_train.shape}\")\n",
    "print(f\"Testing data shape: {X_test.shape}\")"
   ]
  },
  {
   "cell_type": "code",
   "execution_count": 8,
   "id": "e71ff81e",
   "metadata": {},
   "outputs": [
    {
     "name": "stdout",
     "output_type": "stream",
     "text": [
      "Training the model...\n",
      "Model training is complete!\n"
     ]
    }
   ],
   "source": [
    "from sklearn.linear_model import LogisticRegression\n",
    "\n",
    "# 1. Create an instance of the model\n",
    "# We increase max_iter to ensure the model has enough time to learn from the large dataset\n",
    "model = LogisticRegression(max_iter=1000)\n",
    "\n",
    "# 2. Train the model using our training data (X_train, y_train)\n",
    "print(\"Training the model...\")\n",
    "model.fit(X_train, y_train)\n",
    "print(\"Model training is complete!\")"
   ]
  },
  {
   "cell_type": "code",
   "execution_count": 9,
   "id": "8e4147e5",
   "metadata": {},
   "outputs": [
    {
     "name": "stdout",
     "output_type": "stream",
     "text": [
      "Making predictions on the test data...\n",
      "\n",
      "Overall Accuracy: 0.77\n",
      "\n",
      "Classification Report:\n",
      "                 precision    recall  f1-score   support\n",
      "\n",
      "Non-négatif (0)       0.78      0.75      0.77    159494\n",
      "    Négatif (1)       0.76      0.80      0.78    160506\n",
      "\n",
      "       accuracy                           0.77    320000\n",
      "      macro avg       0.77      0.77      0.77    320000\n",
      "   weighted avg       0.77      0.77      0.77    320000\n",
      "\n"
     ]
    }
   ],
   "source": [
    "from sklearn.metrics import accuracy_score, classification_report\n",
    "\n",
    "# 1. Use the trained model to make predictions on the test data\n",
    "print(\"Making predictions on the test data...\")\n",
    "y_pred = model.predict(X_test)\n",
    "\n",
    "# 2. Compare the model's predictions (y_pred) with the true answers (y_test)\n",
    "accuracy = accuracy_score(y_test, y_pred)\n",
    "print(f\"\\nOverall Accuracy: {accuracy:.2f}\")\n",
    "\n",
    "# 3. Get a more detailed performance report\n",
    "print(\"\\nClassification Report:\")\n",
    "print(classification_report(y_test, y_pred, target_names=['Non-négatif (0)', 'Négatif (1)']))"
   ]
  },
  {
   "cell_type": "code",
   "execution_count": 10,
   "id": "a217cef0",
   "metadata": {},
   "outputs": [
    {
     "name": "stderr",
     "output_type": "stream",
     "text": [
      "c:\\formations\\ingénieur ia\\.venv\\Lib\\site-packages\\tqdm\\auto.py:21: TqdmWarning: IProgress not found. Please update jupyter and ipywidgets. See https://ipywidgets.readthedocs.io/en/stable/user_install.html\n",
      "  from .autonotebook import tqdm as notebook_tqdm\n",
      "Some weights of DistilBertForSequenceClassification were not initialized from the model checkpoint at distilbert-base-uncased and are newly initialized: ['classifier.bias', 'classifier.weight', 'pre_classifier.bias', 'pre_classifier.weight']\n",
      "You should probably TRAIN this model on a down-stream task to be able to use it for predictions and inference.\n"
     ]
    },
    {
     "name": "stdout",
     "output_type": "stream",
     "text": [
      "DistilBERT model and its tokenizer are loaded and ready!\n"
     ]
    }
   ],
   "source": [
    "# We'll use the same powerful libraries as before\n",
    "from transformers import AutoTokenizer, AutoModelForSequenceClassification\n",
    "\n",
    "# The correct, English-based model name\n",
    "model_name = \"distilbert-base-uncased\"\n",
    "\n",
    "# 1. Load the Tokenizer for DistilBERT\n",
    "tokenizer = AutoTokenizer.from_pretrained(model_name)\n",
    "\n",
    "# 2. Load the DistilBERT model for sequence classification (with 2 labels)\n",
    "model = AutoModelForSequenceClassification.from_pretrained(model_name, num_labels=2)\n",
    "\n",
    "print(\"DistilBERT model and its tokenizer are loaded and ready!\")"
   ]
  },
  {
   "cell_type": "code",
   "execution_count": 11,
   "id": "7cf7b732",
   "metadata": {},
   "outputs": [
    {
     "name": "stdout",
     "output_type": "stream",
     "text": [
      "Original Sentence:\n",
      " i love the new flight attendant service\n",
      "\n",
      "Token IDs (input_ids):\n",
      " tensor([[  101,  1045,  2293,  1996,  2047,  3462, 16742,  2326,   102,     0,\n",
      "             0,     0,     0,     0,     0,     0,     0,     0,     0,     0,\n",
      "             0,     0,     0,     0,     0,     0,     0,     0,     0,     0,\n",
      "             0,     0,     0,     0,     0,     0,     0,     0,     0,     0,\n",
      "             0,     0,     0,     0,     0,     0,     0,     0,     0,     0,\n",
      "             0,     0,     0,     0,     0,     0,     0,     0,     0,     0,\n",
      "             0,     0,     0,     0]])\n",
      "\n",
      "Attention Mask:\n",
      " tensor([[1, 1, 1, 1, 1, 1, 1, 1, 1, 0, 0, 0, 0, 0, 0, 0, 0, 0, 0, 0, 0, 0, 0, 0,\n",
      "         0, 0, 0, 0, 0, 0, 0, 0, 0, 0, 0, 0, 0, 0, 0, 0, 0, 0, 0, 0, 0, 0, 0, 0,\n",
      "         0, 0, 0, 0, 0, 0, 0, 0, 0, 0, 0, 0, 0, 0, 0, 0]])\n"
     ]
    }
   ],
   "source": [
    "# A sample tweet from our dataset\n",
    "sample_text = \"i love the new flight attendant service\"\n",
    "\n",
    "# Use the tokenizer to process the text\n",
    "# padding='max_length' and truncation=True ensure all sentences are the same size\n",
    "encoding = tokenizer(sample_text, \n",
    "                     padding='max_length', \n",
    "                     truncation=True, \n",
    "                     max_length=64, # A common length for tweets\n",
    "                     return_tensors='pt') # Return as PyTorch tensors\n",
    "\n",
    "print(\"Original Sentence:\\n\", sample_text)\n",
    "print(\"\\nToken IDs (input_ids):\\n\", encoding['input_ids'])\n",
    "print(\"\\nAttention Mask:\\n\", encoding['attention_mask'])"
   ]
  },
  {
   "cell_type": "code",
   "execution_count": 12,
   "id": "20182ff2",
   "metadata": {},
   "outputs": [],
   "source": [
    "import torch\n",
    "from torch.utils.data import Dataset\n",
    "\n",
    "class SentimentDataset(Dataset):\n",
    "    def __init__(self, texts, labels, tokenizer, max_len):\n",
    "        self.texts = texts\n",
    "        self.labels = labels\n",
    "        self.tokenizer = tokenizer\n",
    "        self.max_len = max_len\n",
    "\n",
    "    def __len__(self):\n",
    "        return len(self.texts)\n",
    "\n",
    "    def __getitem__(self, idx):\n",
    "        text = str(self.texts[idx])\n",
    "        label = int(self.labels[idx])\n",
    "\n",
    "        encoding = self.tokenizer(\n",
    "            text,\n",
    "            add_special_tokens=True,\n",
    "            max_length=self.max_len,\n",
    "            padding='max_length',\n",
    "            truncation=True,\n",
    "            return_attention_mask=True,\n",
    "            return_tensors='pt',\n",
    "        )\n",
    "\n",
    "        return {\n",
    "            'input_ids': encoding['input_ids'].flatten(),\n",
    "            'attention_mask': encoding['attention_mask'].flatten(),\n",
    "            'labels': torch.tensor(label, dtype=torch.long)\n",
    "        }\n",
    "\n",
    "# Let's create a smaller, manageable sample of our data for this demo\n",
    "sample_df = df.sample(n=16000, random_state=42)\n",
    "\n",
    "# Create an instance of our custom Dataset\n",
    "MAX_LEN = 64\n",
    "sentiment_dataset = SentimentDataset(\n",
    "    texts=sample_df.text.to_numpy(),\n",
    "    labels=sample_df.sentiment.to_numpy(),\n",
    "    tokenizer=tokenizer,\n",
    "    max_len=MAX_LEN\n",
    ")"
   ]
  },
  {
   "cell_type": "code",
   "execution_count": 13,
   "id": "49946c16",
   "metadata": {},
   "outputs": [
    {
     "name": "stdout",
     "output_type": "stream",
     "text": [
      "Number of batches in the training loader: 800\n",
      "Number of batches in the testing loader: 200\n"
     ]
    }
   ],
   "source": [
    "from torch.utils.data import DataLoader, random_split\n",
    "import numpy as np\n",
    "\n",
    "# 1. Split the main dataset\n",
    "train_size = int(0.8 * len(sentiment_dataset))\n",
    "test_size = len(sentiment_dataset) - train_size\n",
    "train_dataset, test_dataset = random_split(sentiment_dataset, [train_size, test_size])\n",
    "\n",
    "# 2. Create the DataLoaders for each set\n",
    "BATCH_SIZE = 16\n",
    "\n",
    "train_data_loader = DataLoader(\n",
    "  train_dataset,\n",
    "  batch_size=BATCH_SIZE,\n",
    "  shuffle=True\n",
    ")\n",
    "\n",
    "test_data_loader = DataLoader(\n",
    "  test_dataset,\n",
    "  batch_size=BATCH_SIZE\n",
    ")\n",
    "\n",
    "print(f\"Number of batches in the training loader: {len(train_data_loader)}\")\n",
    "print(f\"Number of batches in the testing loader: {len(test_data_loader)}\")"
   ]
  },
  {
   "cell_type": "code",
   "execution_count": 14,
   "id": "82e595f8",
   "metadata": {},
   "outputs": [
    {
     "name": "stderr",
     "output_type": "stream",
     "text": [
      "100%|██████████| 800/800 [30:31<00:00,  2.29s/it]\n"
     ]
    },
    {
     "data": {
      "text/plain": [
       "DistilBertForSequenceClassification(\n",
       "  (distilbert): DistilBertModel(\n",
       "    (embeddings): Embeddings(\n",
       "      (word_embeddings): Embedding(30522, 768, padding_idx=0)\n",
       "      (position_embeddings): Embedding(512, 768)\n",
       "      (LayerNorm): LayerNorm((768,), eps=1e-12, elementwise_affine=True)\n",
       "      (dropout): Dropout(p=0.1, inplace=False)\n",
       "    )\n",
       "    (transformer): Transformer(\n",
       "      (layer): ModuleList(\n",
       "        (0-5): 6 x TransformerBlock(\n",
       "          (attention): DistilBertSdpaAttention(\n",
       "            (dropout): Dropout(p=0.1, inplace=False)\n",
       "            (q_lin): Linear(in_features=768, out_features=768, bias=True)\n",
       "            (k_lin): Linear(in_features=768, out_features=768, bias=True)\n",
       "            (v_lin): Linear(in_features=768, out_features=768, bias=True)\n",
       "            (out_lin): Linear(in_features=768, out_features=768, bias=True)\n",
       "          )\n",
       "          (sa_layer_norm): LayerNorm((768,), eps=1e-12, elementwise_affine=True)\n",
       "          (ffn): FFN(\n",
       "            (dropout): Dropout(p=0.1, inplace=False)\n",
       "            (lin1): Linear(in_features=768, out_features=3072, bias=True)\n",
       "            (lin2): Linear(in_features=3072, out_features=768, bias=True)\n",
       "            (activation): GELUActivation()\n",
       "          )\n",
       "          (output_layer_norm): LayerNorm((768,), eps=1e-12, elementwise_affine=True)\n",
       "        )\n",
       "      )\n",
       "    )\n",
       "  )\n",
       "  (pre_classifier): Linear(in_features=768, out_features=768, bias=True)\n",
       "  (classifier): Linear(in_features=768, out_features=2, bias=True)\n",
       "  (dropout): Dropout(p=0.2, inplace=False)\n",
       ")"
      ]
     },
     "execution_count": 14,
     "metadata": {},
     "output_type": "execute_result"
    }
   ],
   "source": [
    "from torch.optim import AdamW\n",
    "from tqdm.auto import tqdm # For a nice progress bar\n",
    "\n",
    "# 1. SETUP\n",
    "# Move model to GPU if available, otherwise CPU\n",
    "device = torch.device(\"cuda\" if torch.cuda.is_available() else \"cpu\")\n",
    "model.to(device)\n",
    "\n",
    "# Initialize the optimizer\n",
    "optimizer = AdamW(model.parameters(), lr=2e-5) # lr is the learning rate\n",
    "\n",
    "# 2. TRAINING LOOP\n",
    "model.train() # Set the model to training mode\n",
    "for batch in tqdm(train_data_loader):\n",
    "    # Move batch data to the correct device\n",
    "    input_ids = batch['input_ids'].to(device)\n",
    "    attention_mask = batch['attention_mask'].to(device)\n",
    "    labels = batch['labels'].to(device)\n",
    "\n",
    "    # Forward pass: get model outputs\n",
    "    outputs = model(input_ids=input_ids, attention_mask=attention_mask, labels=labels)\n",
    "    \n",
    "    # Get the loss (the measure of error)\n",
    "    loss = outputs.loss\n",
    "    \n",
    "    # Backward pass: calculate gradients\n",
    "    loss.backward()\n",
    "    \n",
    "    # Update weights\n",
    "    optimizer.step()\n",
    "    optimizer.zero_grad()\n",
    "\n",
    "# 3. EVALUATION LOOP\n",
    "model.eval() # Set the model to evaluation mode\n",
    "# ... similar loop over the test_data_loader, but without the optimizer steps ...\n",
    "# We would collect all predictions and then calculate accuracy, precision, and recall."
   ]
  },
  {
   "cell_type": "code",
   "execution_count": 16,
   "id": "63b9497e",
   "metadata": {},
   "outputs": [
    {
     "name": "stdout",
     "output_type": "stream",
     "text": [
      "--- Epoch 1 / 4 ---\n"
     ]
    },
    {
     "name": "stderr",
     "output_type": "stream",
     "text": [
      "Training: 100%|██████████| 800/800 [5:49:38<00:00, 26.22s/it]      \n"
     ]
    },
    {
     "name": "stdout",
     "output_type": "stream",
     "text": [
      "Evaluating...\n"
     ]
    },
    {
     "name": "stderr",
     "output_type": "stream",
     "text": [
      "Evaluating: 100%|██████████| 200/200 [01:32<00:00,  2.16it/s]\n"
     ]
    },
    {
     "name": "stdout",
     "output_type": "stream",
     "text": [
      "\n",
      "Résultats pour l'Epoch 1:\n",
      "              precision    recall  f1-score   support\n",
      "\n",
      " Positif (0)       0.81      0.82      0.81      1607\n",
      " Négatif (1)       0.81      0.80      0.81      1593\n",
      "\n",
      "    accuracy                           0.81      3200\n",
      "   macro avg       0.81      0.81      0.81      3200\n",
      "weighted avg       0.81      0.81      0.81      3200\n",
      "\n",
      "--- Epoch 2 / 4 ---\n"
     ]
    },
    {
     "name": "stderr",
     "output_type": "stream",
     "text": [
      "Training: 100%|██████████| 800/800 [8:55:22<00:00, 40.15s/it]       \n"
     ]
    },
    {
     "name": "stdout",
     "output_type": "stream",
     "text": [
      "Evaluating...\n"
     ]
    },
    {
     "name": "stderr",
     "output_type": "stream",
     "text": [
      "Evaluating: 100%|██████████| 200/200 [01:29<00:00,  2.24it/s]\n"
     ]
    },
    {
     "name": "stdout",
     "output_type": "stream",
     "text": [
      "\n",
      "Résultats pour l'Epoch 2:\n",
      "              precision    recall  f1-score   support\n",
      "\n",
      " Positif (0)       0.76      0.88      0.81      1607\n",
      " Négatif (1)       0.85      0.72      0.78      1593\n",
      "\n",
      "    accuracy                           0.80      3200\n",
      "   macro avg       0.80      0.80      0.80      3200\n",
      "weighted avg       0.80      0.80      0.80      3200\n",
      "\n",
      "--- Epoch 3 / 4 ---\n"
     ]
    },
    {
     "name": "stderr",
     "output_type": "stream",
     "text": [
      "Training: 100%|██████████| 800/800 [23:40<00:00,  1.78s/it]\n"
     ]
    },
    {
     "name": "stdout",
     "output_type": "stream",
     "text": [
      "Evaluating...\n"
     ]
    },
    {
     "name": "stderr",
     "output_type": "stream",
     "text": [
      "Evaluating: 100%|██████████| 200/200 [01:24<00:00,  2.36it/s]\n"
     ]
    },
    {
     "name": "stdout",
     "output_type": "stream",
     "text": [
      "\n",
      "Résultats pour l'Epoch 3:\n",
      "              precision    recall  f1-score   support\n",
      "\n",
      " Positif (0)       0.86      0.73      0.79      1607\n",
      " Négatif (1)       0.77      0.88      0.82      1593\n",
      "\n",
      "    accuracy                           0.80      3200\n",
      "   macro avg       0.81      0.80      0.80      3200\n",
      "weighted avg       0.81      0.80      0.80      3200\n",
      "\n",
      "--- Epoch 4 / 4 ---\n"
     ]
    },
    {
     "name": "stderr",
     "output_type": "stream",
     "text": [
      "Training: 100%|██████████| 800/800 [23:17<00:00,  1.75s/it]\n"
     ]
    },
    {
     "name": "stdout",
     "output_type": "stream",
     "text": [
      "Evaluating...\n"
     ]
    },
    {
     "name": "stderr",
     "output_type": "stream",
     "text": [
      "Evaluating: 100%|██████████| 200/200 [01:26<00:00,  2.32it/s]"
     ]
    },
    {
     "name": "stdout",
     "output_type": "stream",
     "text": [
      "\n",
      "Résultats pour l'Epoch 4:\n",
      "              precision    recall  f1-score   support\n",
      "\n",
      " Positif (0)       0.82      0.81      0.82      1607\n",
      " Négatif (1)       0.81      0.82      0.82      1593\n",
      "\n",
      "    accuracy                           0.82      3200\n",
      "   macro avg       0.82      0.82      0.82      3200\n",
      "weighted avg       0.82      0.82      0.82      3200\n",
      "\n",
      "\n",
      "Entraînement terminé !\n"
     ]
    },
    {
     "name": "stderr",
     "output_type": "stream",
     "text": [
      "\n"
     ]
    }
   ],
   "source": [
    "from torch.optim import AdamW\n",
    "from tqdm.auto import tqdm # Pour une belle barre de progression\n",
    "import torch\n",
    "from sklearn.metrics import classification_report\n",
    "import numpy as np\n",
    "\n",
    "# Listes pour stocker les métriques\n",
    "history = {\n",
    "    'train_loss': [],\n",
    "    'val_accuracy': []\n",
    "}\n",
    "\n",
    "# 1. PRÉPARATION\n",
    "# Déplace le modèle sur le GPU si disponible, sinon le CPU\n",
    "device = torch.device(\"cuda\" if torch.cuda.is_available() else \"cpu\")\n",
    "model.to(device)\n",
    "\n",
    "# Initialise l'optimiseur, qui met à jour les poids du modèle\n",
    "optimizer = AdamW(model.parameters(), lr=2e-5)\n",
    "\n",
    "# Nombre d'époques (cycles d'entraînement complets)\n",
    "EPOCHS = 4\n",
    "\n",
    "# 2. BOUCLE D'ENTRAÎNEMENT PRINCIPALE\n",
    "for epoch in range(EPOCHS):\n",
    "    print(f'--- Epoch {epoch + 1} / {EPOCHS} ---')\n",
    "    \n",
    "    # -- Phase d'entraînement --\n",
    "    model.train() # Passe le modèle en mode \"entraînement\"\n",
    "    total_train_loss = 0\n",
    "\n",
    "    for batch in tqdm(train_data_loader, desc=\"Training\"):\n",
    "        # Déplace les données du batch sur le bon appareil (CPU ou GPU)\n",
    "        input_ids = batch['input_ids'].to(device)\n",
    "        attention_mask = batch['attention_mask'].to(device)\n",
    "        labels = batch['labels'].to(device)\n",
    "\n",
    "        # Réinitialise les gradients de l'itération précédente\n",
    "        optimizer.zero_grad()\n",
    "        \n",
    "        # Le modèle traite les données et calcule la perte (l'erreur)\n",
    "        outputs = model(input_ids=input_ids, attention_mask=attention_mask, labels=labels)\n",
    "        loss = outputs.loss\n",
    "        \n",
    "        # Rétropropagation : calcule comment ajuster les poids pour réduire l'erreur\n",
    "        loss.backward()\n",
    "        \n",
    "        # L'optimiseur applique les ajustements aux poids du modèle\n",
    "        optimizer.step()\n",
    "\n",
    "    avg_train_loss = total_train_loss / len(train_data_loader)\n",
    "    history['train_loss'].append(avg_train_loss)\n",
    "\n",
    "    # -- Phase d'évaluation --\n",
    "    print(\"Evaluating...\")\n",
    "    model.eval() # Passe le modèle en mode \"évaluation\"\n",
    "    \n",
    "    predictions, true_labels = [], []\n",
    "    \n",
    "    with torch.no_grad(): # Pas besoin de calculer les gradients pendant l'évaluation\n",
    "        for batch in tqdm(test_data_loader, desc=\"Evaluating\"):\n",
    "            # Déplace les données du batch sur le bon appareil\n",
    "            input_ids = batch['input_ids'].to(device)\n",
    "            attention_mask = batch['attention_mask'].to(device)\n",
    "            labels = batch['labels'].to(device)\n",
    "\n",
    "            # Le modèle fait ses prédictions\n",
    "            outputs = model(input_ids=input_ids, attention_mask=attention_mask)\n",
    "            \n",
    "            # On récupère la prédiction la plus probable (0 ou 1)\n",
    "            logits = outputs.logits\n",
    "            batch_predictions = torch.argmax(logits, dim=1)\n",
    "            \n",
    "            predictions.extend(batch_predictions.cpu().numpy())\n",
    "            true_labels.extend(labels.cpu().numpy())\n",
    "\n",
    "    val_accuracy = accuracy_score(true_labels, predictions)\n",
    "    history['val_accuracy'].append(val_accuracy)\n",
    "\n",
    "    # Affiche le rapport de classification pour l'époch en cours\n",
    "    print(f\"\\nRésultats pour l'Epoch {epoch + 1}:\")\n",
    "    print(classification_report(true_labels, predictions, target_names=['Positif (0)', 'Négatif (1)']))\n",
    "\n",
    "print(\"\\nEntraînement terminé !\")"
   ]
  },
  {
   "cell_type": "code",
   "execution_count": 18,
   "id": "7afb0029",
   "metadata": {},
   "outputs": [
    {
     "data": {
      "image/png": "[encoded data removed]",
      "text/plain": [
       "<Figure size 1200x500 with 2 Axes>"
      ]
     },
     "metadata": {},
     "output_type": "display_data"
    }
   ],
   "source": [
    "import matplotlib.pyplot as plt\n",
    "\n",
    "# Créer une figure avec deux graphiques\n",
    "fig, (ax1, ax2) = plt.subplots(1, 2, figsize=(12, 5))\n",
    "\n",
    "# Graphique de la perte d'entraînement\n",
    "ax1.plot(history['train_loss'], label='Perte d\\'entraînement')\n",
    "ax1.set_title('Évolution de la Perte')\n",
    "ax1.set_xlabel('Épochs')\n",
    "ax1.set_ylabel('Perte')\n",
    "ax1.legend()\n",
    "\n",
    "# Graphique de la précision de validation\n",
    "ax2.plot(history['val_accuracy'], label='Précision de validation', color='orange')\n",
    "ax2.set_title('Évolution de la Précision')\n",
    "ax2.set_xlabel('Épochs')\n",
    "ax2.set_ylabel('Précision')\n",
    "ax2.legend()\n",
    "\n",
    "plt.show()"
   ]
  },
  {
   "cell_type": "code",
   "execution_count": null,
   "id": "4297669a",
   "metadata": {},
   "outputs": [
    {
     "name": "stdout",
     "output_type": "stream",
     "text": [
      "Sauvegarde du modèle dans le répertoire ./sentiment_distilbert_model/\n",
      "\n",
      "Modèle et tokenizer sauvegardés avec succès !\n"
     ]
    }
   ],
   "source": [
    "import os\n",
    "\n",
    "# 1. Définir le chemin du répertoire où tout sera sauvegardé\n",
    "output_dir = \"../sentiment_distilbert_model/\"\n",
    "\n",
    "# Crée le répertoire s'il n'existe pas\n",
    "os.makedirs(output_dir, exist_ok=True)\n",
    "\n",
    "print(f\"Sauvegarde du modèle dans le répertoire {output_dir}\")\n",
    "\n",
    "# 2. Sauvegarder le modèle (uniquement ses poids appris)\n",
    "model.save_pretrained(output_dir)\n",
    "\n",
    "# 3. Sauvegarder le tokenizer associé\n",
    "tokenizer.save_pretrained(output_dir)\n",
    "\n",
    "print(\"\\nModèle et tokenizer sauvegardés avec succès !\")"
   ]
  },
  {
   "cell_type": "code",
   "execution_count": 1,
   "id": "a83ef5d6",
   "metadata": {},
   "outputs": [
    {
     "name": "stderr",
     "output_type": "stream",
     "text": [
      "c:\\formations\\ingénieur ia\\.venv\\Lib\\site-packages\\tqdm\\auto.py:21: TqdmWarning: IProgress not found. Please update jupyter and ipywidgets. See https://ipywidgets.readthedocs.io/en/stable/user_install.html\n",
      "  from .autonotebook import tqdm as notebook_tqdm\n"
     ]
    },
    {
     "name": "stdout",
     "output_type": "stream",
     "text": [
      "Le tweet : 'The flight was surprisingly on time and the crew was wonderful.'\n",
      "Result: 1\n",
      "Prédiction : Positif (1)\n"
     ]
    }
   ],
   "source": [
    "from transformers import AutoTokenizer, AutoModelForSequenceClassification\n",
    "import torch\n",
    "\n",
    "# 1. Définir le chemin où se trouve le modèle sauvegardé\n",
    "output_dir = \"../sentiment_distilbert_model/\"\n",
    "\n",
    "# 2. Charger le tokenizer depuis ce répertoire\n",
    "tokenizer = AutoTokenizer.from_pretrained(output_dir)\n",
    "\n",
    "# 3. Charger le modèle depuis ce répertoire\n",
    "model = AutoModelForSequenceClassification.from_pretrained(output_dir)\n",
    "\n",
    "# Mettons le modèle en mode évaluation (important !)\n",
    "model.eval()\n",
    "\n",
    "# 4. Utiliser le modèle pour une nouvelle prédiction\n",
    "new_tweet = \"The flight was surprisingly on time and the crew was wonderful.\"\n",
    "\n",
    "# Préparer le tweet avec le tokenizer (comme pendant l'entraînement)\n",
    "inputs = tokenizer(new_tweet, return_tensors=\"pt\", truncation=True, padding=True)\n",
    "\n",
    "# Faire la prédiction\n",
    "with torch.no_grad(): # Pas besoin de calculer les gradients pour une simple prédiction\n",
    "    outputs = model(**inputs)\n",
    "\n",
    "# Obtenir le résultat\n",
    "logits = outputs.logits\n",
    "prediction = torch.argmax(logits, dim=1).item()\n",
    "\n",
    "# Interpréter le résultat\n",
    "sentiments = ['Négatif (0)', 'Positif (1)']\n",
    "print(f\"Le tweet : '{new_tweet}'\")\n",
    "print(f\"Result: {prediction}\")\n",
    "print(f\"Prédiction : {sentiments[prediction]}\")"
   ]
  }
 ],
 "metadata": {
  "kernelspec": {
   "display_name": ".venv",
   "language": "python",
   "name": "python3"
  },
  "language_info": {
   "codemirror_mode": {
    "name": "ipython",
    "version": 3
   },
   "file_extension": ".py",
   "mimetype": "text/x-python",
   "name": "python",
   "nbconvert_exporter": "python",
   "pygments_lexer": "ipython3",
   "version": "3.13.5"
  }
 },
 "nbformat": 4,
 "nbformat_minor": 5
}
